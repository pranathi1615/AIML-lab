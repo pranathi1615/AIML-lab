{
  "nbformat": 4,
  "nbformat_minor": 0,
  "metadata": {
    "colab": {
      "provenance": [],
      "authorship_tag": "ABX9TyO2yYIXNfiMiJYJhsfsU6Xp",
      "include_colab_link": true
    },
    "kernelspec": {
      "name": "python3",
      "display_name": "Python 3"
    },
    "language_info": {
      "name": "python"
    }
  },
  "cells": [
    {
      "cell_type": "markdown",
      "metadata": {
        "id": "view-in-github",
        "colab_type": "text"
      },
      "source": [
        "<a href=\"https://colab.research.google.com/github/pranathi1615/AIML-lab/blob/main/assignment1.ipynb\" target=\"_parent\"><img src=\"https://colab.research.google.com/assets/colab-badge.svg\" alt=\"Open In Colab\"/></a>"
      ]
    },
    {
      "cell_type": "code",
      "execution_count": 1,
      "metadata": {
        "colab": {
          "base_uri": "https://localhost:8080/"
        },
        "id": "Pj9J51SBB9E3",
        "outputId": "296a864e-f3ed-405c-e312-17503d57abb1"
      },
      "outputs": [
        {
          "output_type": "stream",
          "name": "stdout",
          "text": [
            "a\n",
            "b\n",
            "19\n",
            "sam\n",
            "1\n",
            "array elements: [1 2 3 4 5 6 7 8 9]\n",
            "type: <class 'numpy.ndarray'>\n",
            "Addition: [ 3  6  9 12 15 18 21 24 27]\n",
            "Subtraction: [1 2 3 4 5 6 7 8 9]\n",
            "Multiplication: [  2   8  18  32  50  72  98 128 162]\n",
            "division: [1. 2. 3. 4. 5. 6. 7. 8. 9.]\n",
            "power: [  4  16  36  64 100 144 196 256 324]\n",
            "sin values of arr2: [ 0.90929743 -0.7568025  -0.2794155   0.98935825 -0.54402111 -0.53657292\n",
            "  0.99060736 -0.28790332 -0.75098725]\n",
            "log values of arr2: [0.69314718 1.38629436 1.79175947 2.07944154 2.30258509 2.48490665\n",
            " 2.63905733 2.77258872 2.89037176]\n",
            "log2 values of arr2: [1.         2.         2.5849625  3.         3.32192809 3.5849625\n",
            " 3.80735492 4.         4.169925  ]\n",
            "exponential values of arr2: [7.38905610e+00 5.45981500e+01 4.03428793e+02 2.98095799e+03\n",
            " 2.20264658e+04 1.62754791e+05 1.20260428e+06 8.88611052e+06\n",
            " 6.56599691e+07]\n"
          ]
        }
      ],
      "source": [
        "import numpy as np\n",
        "#list\n",
        "A=['a','b',19,'sam',1,[2,3,4]]\n",
        "print(A[0])\n",
        "print(A[1])\n",
        "print(A[2])\n",
        "print(A[3])\n",
        "print(A[4])\n",
        "\n",
        "#Array\n",
        "#Array\n",
        "arr1=np.array([1,2,3,4,5,6,7,8,9])\n",
        "\n",
        "print(\"array elements:\",arr1)\n",
        "#type\n",
        "B=np.array([1.2,3.5,4,8,9,3.6])\n",
        "print(\"type:\",type(B))\n",
        "#Mathematical operations\n",
        "#Addition\n",
        "arr2=np.array([2,4,6,8,10,12,14,16,18])\n",
        "C=arr1+arr2;\n",
        "print(\"Addition:\",C)\n",
        "#Subtraction\n",
        "D=arr2-arr1;\n",
        "print(\"Subtraction:\",D)\n",
        "#multiplication\n",
        "E=arr1*arr2;\n",
        "print(\"Multiplication:\",E)\n",
        "#division\n",
        "F=arr2/2;\n",
        "print(\"division:\",F)\n",
        "#power\n",
        "G=arr2**2\n",
        "print(\"power:\",G)\n",
        "#sin\n",
        "H=np.sin(arr2)\n",
        "print(\"sin values of arr2:\",H)\n",
        "#log\n",
        "I=np.log(arr2)\n",
        "print(\"log values of arr2:\",I)\n",
        "#log2\n",
        "J=np.log2(arr2)\n",
        "print(\"log2 values of arr2:\",J)\n",
        "#exponential\n",
        "K=np.exp(arr2)\n",
        "print(\"exponential values of arr2:\",K)"
      ]
    }
  ]
}