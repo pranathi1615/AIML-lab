{
  "nbformat": 4,
  "nbformat_minor": 0,
  "metadata": {
    "colab": {
      "provenance": [],
      "authorship_tag": "ABX9TyMO6ya39l0bb4uPTi9Hp1EG",
      "include_colab_link": true
    },
    "kernelspec": {
      "name": "python3",
      "display_name": "Python 3"
    },
    "language_info": {
      "name": "python"
    }
  },
  "cells": [
    {
      "cell_type": "markdown",
      "metadata": {
        "id": "view-in-github",
        "colab_type": "text"
      },
      "source": [
        "<a href=\"https://colab.research.google.com/github/pranathi1615/AIML-lab/blob/main/neuronnetwork1\" target=\"_parent\"><img src=\"https://colab.research.google.com/assets/colab-badge.svg\" alt=\"Open In Colab\"/></a>"
      ]
    },
    {
      "cell_type": "code",
      "source": [
        "inputs=[1,2,3]\n",
        "weights=[0.1,0.3,0.5]\n",
        "bias=2\n",
        "output=inputs[0]*weights[0]+inputs[1]*weights[1]+inputs[2]*weights[2]+bias\n",
        "print(output)\n",
        "\n",
        "inputs=[0.4,0.3,1,0.8]\n",
        "weights1=[0.3,0.2,0.1,0.4]\n",
        "weights2=[0.4,0.1,0.3,0.2]\n",
        "weights3=[0.2,-0.2,-0.1,0.8]\n",
        "bias1=0.1\n",
        "bias2=0.3\n",
        "bias3=0.6\n",
        "output=[inputs[0]*weights1[0]+inputs[1]*weights1[1]+inputs[2]*weights1[2]+inputs[3]*weights1[3]+bias1,\n",
        "        inputs[0]*weights2[0]+inputs[1]*weights2[1]+inputs[2]*weights2[2]+inputs[3]*weights2[3]+bias2,\n",
        "        inputs[0]*weights3[0]+inputs[1]*weights3[1]+inputs[2]*weights3[2]+inputs[3]*weights3[3]+bias3]\n",
        "print(output)\n",
        "\n",
        "import numpy as np\n",
        "inputs=np.array([1,2,3,2.5])\n",
        "weights=np.array([[0.2,0.8,-0.5,1.0],\n",
        "                 [0.5,-0.9,0.26,-0.5],\n",
        "                 [-0.25,-0.27,0.17,0.07],])\n",
        "biases=np.array([2,3,0.5])\n",
        "output=np.dot(weights,inputs)+biases\n",
        "print(output)\n",
        "\n",
        "import numpy as np\n",
        "def relu(x):\n",
        "  return np.maximum(0,x)\n",
        "  inputs=np.array([1,2,3,2.5])\n",
        "weights=np.array([[0.2,0.8,-0.5,1.0],\n",
        "                 [0.5,-0.9,0.26,-0.5],\n",
        "                 [-0.25,-0.27,0.17,0.07],])\n",
        "biases=np.array([2,3,0.5])\n",
        "output1=relu(output)\n",
        "output2=sigmoid(output)\n",
        "print(output2)\n",
        "\n"
      ],
      "metadata": {
        "colab": {
          "base_uri": "https://localhost:8080/"
        },
        "id": "VqDjCbYArrS5",
        "outputId": "a1c6129a-62a1-4edf-8231-6eecd319ad92"
      },
      "execution_count": 20,
      "outputs": [
        {
          "output_type": "stream",
          "name": "stdout",
          "text": [
            "4.2\n",
            "[0.7000000000000001, 0.95, 1.1600000000000001]\n",
            "[4.8   1.23  0.395]\n",
            "[0.99183743 0.77381857 0.59748577]\n",
            "0.9918374288468401\n"
          ]
        }
      ]
    },
    {
      "cell_type": "code",
      "execution_count": null,
      "metadata": {
        "id": "h_Z75WTmrkhA"
      },
      "outputs": [],
      "source": []
    }
  ]
}
