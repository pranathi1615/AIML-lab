{
  "nbformat": 4,
  "nbformat_minor": 0,
  "metadata": {
    "colab": {
      "provenance": [],
      "authorship_tag": "ABX9TyNbhgLUKvjVbWAxgU7wHLoh",
      "include_colab_link": true
    },
    "kernelspec": {
      "name": "python3",
      "display_name": "Python 3"
    },
    "language_info": {
      "name": "python"
    }
  },
  "cells": [
    {
      "cell_type": "markdown",
      "metadata": {
        "id": "view-in-github",
        "colab_type": "text"
      },
      "source": [
        "<a href=\"https://colab.research.google.com/github/pranathi1615/AIML-lab/blob/main/assignment4.ipynb\" target=\"_parent\"><img src=\"https://colab.research.google.com/assets/colab-badge.svg\" alt=\"Open In Colab\"/></a>"
      ]
    },
    {
      "cell_type": "code",
      "execution_count": 1,
      "metadata": {
        "colab": {
          "base_uri": "https://localhost:8080/"
        },
        "id": "n_DzaWflGGJI",
        "outputId": "02c31452-fe32-4382-9568-53cf89649fba"
      },
      "outputs": [
        {
          "output_type": "stream",
          "name": "stdout",
          "text": [
            "a\n",
            "b\n",
            "19\n",
            "sam\n",
            "1\n",
            "array elements: [1 2 3 4 5 6 7 8 9]\n",
            "type: <class 'numpy.ndarray'>\n",
            "Addition: [ 3  6  9 12 15 18 21 24 27]\n",
            "Subtraction: [1 2 3 4 5 6 7 8 9]\n",
            "Multiplication: [  2   8  18  32  50  72  98 128 162]\n",
            "division: [1. 2. 3. 4. 5. 6. 7. 8. 9.]\n",
            "power: [  4  16  36  64 100 144 196 256 324]\n",
            "sin values of arr2: [ 0.90929743 -0.7568025  -0.2794155   0.98935825 -0.54402111 -0.53657292\n",
            "  0.99060736 -0.28790332 -0.75098725]\n",
            "log values of arr2: [0.69314718 1.38629436 1.79175947 2.07944154 2.30258509 2.48490665\n",
            " 2.63905733 2.77258872 2.89037176]\n",
            "log2 values of arr2: [1.         2.         2.5849625  3.         3.32192809 3.5849625\n",
            " 3.80735492 4.         4.169925  ]\n",
            "exponential values of arr2: [7.38905610e+00 5.45981500e+01 4.03428793e+02 2.98095799e+03\n",
            " 2.20264658e+04 1.62754791e+05 1.20260428e+06 8.88611052e+06\n",
            " 6.56599691e+07]\n"
          ]
        }
      ],
      "source": [
        "import numpy as np\n",
        "#list\n",
        "A=['a','b',19,'sam',1,[2,3,4]]\n",
        "print(A[0])\n",
        "print(A[1])\n",
        "print(A[2])\n",
        "print(A[3])\n",
        "print(A[4])\n",
        "\n",
        "#Array\n",
        "#Array\n",
        "arr1=np.array([1,2,3,4,5,6,7,8,9])\n",
        "\n",
        "print(\"array elements:\",arr1)\n",
        "#type\n",
        "B=np.array([1.2,3.5,4,8,9,3.6])\n",
        "print(\"type:\",type(B))\n",
        "#Mathematical operations\n",
        "#Addition\n",
        "arr2=np.array([2,4,6,8,10,12,14,16,18])\n",
        "C=arr1+arr2;\n",
        "print(\"Addition:\",C)\n",
        "#Subtraction\n",
        "D=arr2-arr1;\n",
        "print(\"Subtraction:\",D)\n",
        "#multiplication\n",
        "E=arr1*arr2;\n",
        "print(\"Multiplication:\",E)\n",
        "#division\n",
        "F=arr2/2;\n",
        "print(\"division:\",F)\n",
        "#power\n",
        "G=arr2**2\n",
        "print(\"power:\",G)\n",
        "#sin\n",
        "H=np.sin(arr2)\n",
        "print(\"sin values of arr2:\",H)\n",
        "#log\n",
        "I=np.log(arr2)\n",
        "print(\"log values of arr2:\",I)\n",
        "#log2\n",
        "J=np.log2(arr2)\n",
        "print(\"log2 values of arr2:\",J)\n",
        "#exponential\n",
        "K=np.exp(arr2)\n",
        "print(\"exponential values of arr2:\",K)\n",
        "H=np.sin(arr2)"
      ]
    },
    {
      "cell_type": "code",
      "source": [
        "from queue import Queue\n",
        "\n",
        "graph = {0: [1, 3],\n",
        "         1: [0, 2, 3],\n",
        "         2: [1, 4, 5],\n",
        "         3: [0, 1, 4],\n",
        "         4: [2, 3, 5],\n",
        "         5: [2, 4],\n",
        "\n",
        "         6:[]}\n",
        "print(\"The adjacency List representing the graph is:\")\n",
        "print(graph)\n",
        "\n",
        "\n",
        "def bfs(graph, source):\n",
        "       Q = Queue()\n",
        "       visited_vertices = set()\n",
        "       Q.put(source)\n",
        "       visited_vertices.update({source})\n",
        "       while not Q.empty():\n",
        "           vertex = Q.get()\n",
        "           print(vertex, end=\"-->\")\n",
        "           for u in graph[vertex]:\n",
        "                if u not in visited_vertices:\n",
        "                      Q.put(u)\n",
        "                      visited_vertices.update({u})\n",
        "\n",
        "print(\"BFS traversal of graph with source 1 is:\")\n",
        "bfs(graph, 1)"
      ],
      "metadata": {
        "colab": {
          "base_uri": "https://localhost:8080/"
        },
        "id": "ymH1zbxMGZOV",
        "outputId": "ac7e0be1-abb9-4edb-a471-dda7c2ac8516"
      },
      "execution_count": 2,
      "outputs": [
        {
          "output_type": "stream",
          "name": "stdout",
          "text": [
            "The adjacency List representing the graph is:\n",
            "{0: [1, 3], 1: [0, 2, 3], 2: [1, 4, 5], 3: [0, 1, 4], 4: [2, 3, 5], 5: [2, 4], 6: []}\n",
            "BFS traversal of graph with source 1 is:\n",
            "1-->0-->2-->3-->4-->5-->"
          ]
        }
      ]
    },
    {
      "cell_type": "code",
      "source": [
        "graph1 = {\n",
        "      'A' : ['B','S'],\n",
        "      'B' : ['A'],\n",
        "      'C' : ['D','E','F','S'],\n",
        "      'D' : ['C'],\n",
        "      'E' : ['C','H'],\n",
        "      'F' : ['C','G'],\n",
        "      'G' : ['H','S'],\n",
        "      'H' : ['E','G'],\n",
        "      'S' : ['A','C','G']\n",
        "}\n",
        "\n",
        "def dfs(graph, node, visited):\n",
        "   if node not in visited:\n",
        "       visited.append(node)\n",
        "       for k in graph[node]:\n",
        "            dfs(graph,k, visited)\n",
        "   return visited\n",
        "\n",
        "visited = dfs(graph1,'B', [])\n",
        "print(visited)"
      ],
      "metadata": {
        "colab": {
          "base_uri": "https://localhost:8080/"
        },
        "id": "r6R6WRHAGeJA",
        "outputId": "f1c6cf3a-4d6d-480d-d736-cb2186020184"
      },
      "execution_count": 3,
      "outputs": [
        {
          "output_type": "stream",
          "name": "stdout",
          "text": [
            "['B', 'A', 'S', 'C', 'D', 'E', 'H', 'G', 'F']\n"
          ]
        }
      ]
    },
    {
      "cell_type": "code",
      "source": [
        "from copy import deepcopy\n",
        "import numpy as np\n",
        "import time\n",
        "\n",
        "def bestsolution(state):\n",
        "    bestsol = np.array([], int).reshape(-1, 9)\n",
        "    count = len(state) - 1\n",
        "    while count != -1:\n",
        "        bestsol = np.insert(bestsol, 0, state[count]['puzzle'], 0)\n",
        "        count = (state[count]['parent'])\n",
        "    return bestsol.reshape(-1,3,3)\n",
        "    # checks for the uniqueness of the iteration(it).\n",
        "def all(checkarray):\n",
        "    set=[]\n",
        "    for it in set:\n",
        "        for checkarray in it:\n",
        "            return 1\n",
        "        else:\n",
        "          return 0\n",
        "    # number of misplaced tiles\n",
        "def misplaced_tiles(puzzle,goal):\n",
        "    mscost = np.sum(puzzle != goal) - 1\n",
        "    return mscost if mscost > 0 else 0\n",
        "\n",
        "\n",
        "def coordinates(puzzle):\n",
        "    pos = np.array(range(9))\n",
        "    for p, q in enumerate(puzzle):\n",
        "        pos[q] = p\n",
        "        return pos\n",
        "# start of 8 puzzle evaluvation, using Misplaced tiles heuristics\n",
        "def evaluvate_misplaced(puzzle, goal):\n",
        "    steps = np.array([('up', [0, 1, 2], -3),('down', [6, 7, 8],  3),('left', [0, 3, 6], -1),('right', [2, 5, 8],  1)],\n",
        "                dtype =  [('move',  str, 1),('position', list),('head', int)])\n",
        "\n",
        "    dtstate = [('puzzle',  list),('parent', int),('gn',  int),('hn',  int)]\n",
        "\n",
        "    costg = coordinates(goal)\n",
        "\n",
        "    # initializing the parent, gn and hn, where hn is misplaced_tiles  function call\n",
        "    parent = -1\n",
        "    gn = 0\n",
        "    hn = misplaced_tiles(coordinates(puzzle), costg)\n",
        "    state = np.array([(puzzle, parent, gn, hn)], dtstate)\n",
        "    #priority queues with position as keys and fn as value.\n",
        "    dtpriority = [('position', int),('fn', int)]\n",
        "\n",
        "    priority = np.array([(0, hn)], dtpriority)\n",
        "\n",
        "    while 1:\n",
        "        priority = np.sort(priority, kind='mergesort', order=['fn', 'position'])\n",
        "        position, fn = priority[0]\n",
        "        # sort priority queue using merge sort,the first element is picked for exploring.\n",
        "        priority = np.delete(priority, 0, 0)\n",
        "        puzzle, parent, gn, hn = state[position]\n",
        "        puzzle = np.array(puzzle)\n",
        "\n",
        "        blank = int(np.where(puzzle == 0)[0])\n",
        "\n",
        "        gn = gn + 1\n",
        "        c = 1\n",
        "        start_time = time.time()\n",
        "        for s in steps:\n",
        "            c = c + 1\n",
        "            if blank not in s['position']:\n",
        "                openstates = deepcopy(puzzle)\n",
        "                openstates[blank], openstates[blank + s['head']] = openstates[blank + s['head']], openstates[blank]\n",
        "\n",
        "                if ~(np.all(list(state['puzzle']) == openstates, 1)).any():\n",
        "                    end_time = time.time()\n",
        "                    if (( end_time - start_time ) > 2):\n",
        "                        print(\" The 8 puzzle is unsolvable \\n\")\n",
        "                        break\n",
        "\n",
        "                    hn = misplaced_tiles(coordinates(openstates), costg)\n",
        "                    # generate and add new state in the list\n",
        "                    q = np.array([(openstates, position, gn, hn)], dtstate)\n",
        "                    state = np.append(state, q, 0)\n",
        "                    # f(n) is the sum of cost to reach node\n",
        "                    fn = gn + hn\n",
        "\n",
        "                    q = np.array([(len(state) - 1, fn)], dtpriority)\n",
        "                    priority = np.append(priority, q, 0)\n",
        "\n",
        "                    if np.array_equal(openstates, goal):\n",
        "                        print(' The 8 puzzle is solvable \\n')\n",
        "                        return state, len(priority)\n",
        "\n",
        "    return state, len(priority)\n",
        "    # initial state\n",
        "puzzle = []\n",
        "\n",
        "puzzle.append(2)\n",
        "puzzle.append(8)\n",
        "puzzle.append(3)\n",
        "puzzle.append(1)\n",
        "puzzle.append(6)\n",
        "puzzle.append(4)\n",
        "puzzle.append(7)\n",
        "puzzle.append(0)\n",
        "puzzle.append(5)\n",
        "\n",
        "#goal state\n",
        "goal = []\n",
        "\n",
        "goal.append(1)\n",
        "goal.append(2)\n",
        "goal.append(3)\n",
        "goal.append(8)\n",
        "goal.append(0)\n",
        "goal.append(4)\n",
        "goal.append(7)\n",
        "goal.append(6)\n",
        "goal.append(5)\n",
        "state, visited = evaluvate_misplaced(puzzle, goal)\n",
        "bestpath = bestsolution(state)\n",
        "print(str(bestpath).replace('[', ' ').replace(']', ''))\n",
        "totalmoves = len(bestpath) - 1\n",
        "print('\\nSteps to reach goal:',totalmoves)\n",
        "visit = len(state) - visited\n",
        "print('Total nodes visited: ',visit, \"\\n\")"
      ],
      "metadata": {
        "colab": {
          "base_uri": "https://localhost:8080/"
        },
        "id": "m7iFOOxGGiJ6",
        "outputId": "5931f741-beb7-43f5-80b5-6b9a9a9150a9"
      },
      "execution_count": 4,
      "outputs": [
        {
          "output_type": "stream",
          "name": "stdout",
          "text": [
            " The 8 puzzle is solvable \n",
            "\n",
            "   2 8 3\n",
            "   1 6 4\n",
            "   7 0 5\n",
            "\n",
            "   2 8 3\n",
            "   1 0 4\n",
            "   7 6 5\n",
            "\n",
            "   2 0 3\n",
            "   1 8 4\n",
            "   7 6 5\n",
            "\n",
            "   0 2 3\n",
            "   1 8 4\n",
            "   7 6 5\n",
            "\n",
            "   1 2 3\n",
            "   0 8 4\n",
            "   7 6 5\n",
            "\n",
            "   1 2 3\n",
            "   8 0 4\n",
            "   7 6 5\n",
            "\n",
            "Steps to reach goal: 5\n",
            "Total nodes visited:  20 \n",
            "\n"
          ]
        },
        {
          "output_type": "stream",
          "name": "stderr",
          "text": [
            "<ipython-input-4-073b4150e848>:58: DeprecationWarning: Conversion of an array with ndim > 0 to a scalar is deprecated, and will error in future. Ensure you extract a single element from your array before performing this operation. (Deprecated NumPy 1.25.)\n",
            "  blank = int(np.where(puzzle == 0)[0])\n"
          ]
        }
      ]
    }
  ]
}